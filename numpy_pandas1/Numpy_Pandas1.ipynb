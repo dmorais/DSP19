{
 "cells": [
  {
   "cell_type": "markdown",
   "metadata": {},
   "source": [
    "# Numpy\n",
    "\n",
    "Numpy, which stands for Numerical Python, is a library consisting of multidimensional array objects and a collection of routines for processing those arrays.\n",
    "\n",
    "#### Why Numpy?\n",
    "Numpy is the core of scientific computing in Python. It provides a high-performance multidimensional array operation.\n",
    "Numpy allow you to performe optimized operations on an vectorized array.\n",
    "\n",
    "In comparison with list, where you must perform a certain operation on each element (usually through a loop), Numpy allow you to perform such operation on the entire array at once.\n",
    "\n",
    "Numpy is written in C, which makes it very fast and eficient.\n",
    "\n",
    "#### Numpy array\n",
    "A numpy array is a grid of values, all of the same type, and is indexed by a tuple of nonnegative integers. The number of dimensions is the rank of the array; the shape of an array is a tuple of integers giving the size of the array along each dimension."
   ]
  },
  {
   "cell_type": "code",
   "execution_count": 1,
   "metadata": {},
   "outputs": [
    {
     "name": "stdout",
     "output_type": "stream",
     "text": [
      "array type: <class 'numpy.ndarray'>\n",
      "array shape: (3,)\n",
      "1 2\n"
     ]
    }
   ],
   "source": [
    "import numpy as np\n",
    "\n",
    "a = np.array([1,2,3])               # Create an rank 1 array\n",
    "print(\"array type:\", type(a))\n",
    "print(\"array shape:\", a.shape)\n",
    "print(a[0], a[1])\n"
   ]
  },
  {
   "cell_type": "code",
   "execution_count": 2,
   "metadata": {},
   "outputs": [
    {
     "name": "stdout",
     "output_type": "stream",
     "text": [
      "array shape: (2, 3)\n",
      "1 2 4\n"
     ]
    }
   ],
   "source": [
    "b = np.array([[1,2,3],[4,5,6]])\n",
    "print(\"array shape:\", b.shape)\n",
    "print(b[0,0], b[0,1], b[1,0])"
   ]
  },
  {
   "cell_type": "code",
   "execution_count": 3,
   "metadata": {
    "scrolled": true
   },
   "outputs": [
    {
     "name": "stdout",
     "output_type": "stream",
     "text": [
      "array of zeros:\n",
      " [[0. 0.]\n",
      " [0. 0.]]\n",
      "\n",
      "array of ones:\n",
      " [[1. 1.]]\n",
      "\n",
      "array of constant:\n",
      " [[7 7]\n",
      " [7 7]]\n",
      "\n"
     ]
    }
   ],
   "source": [
    "# create an array of zeros\n",
    "a = np.zeros((2,2))\n",
    "print(\"array of zeros:\\n\", a)\n",
    "print()\n",
    "\n",
    "# create an array of 1s\n",
    "a = np.ones((1,2))\n",
    "print(\"array of ones:\\n\", a)\n",
    "print()\n",
    "\n",
    "# creata an array of a constant\n",
    "a = np.full((2,2), 7, dtype=int)  # here I specified the type to be an interger\n",
    "print(\"array of constant:\\n\", a)\n",
    "print()"
   ]
  },
  {
   "cell_type": "code",
   "execution_count": 4,
   "metadata": {},
   "outputs": [
    {
     "name": "stdout",
     "output_type": "stream",
     "text": [
      "identity matrix :\n",
      " [[1. 0. 0.]\n",
      " [0. 1. 0.]\n",
      " [0. 0. 1.]]\n",
      "\n",
      "random array :\n",
      " [[0.27304899 0.36191915]\n",
      " [0.68203839 0.85547087]]\n",
      "\n"
     ]
    }
   ],
   "source": [
    "# create an identity matrix\n",
    "a = np.eye(3)\n",
    "print(\"identity matrix :\\n\", a)\n",
    "print()\n",
    "\n",
    "a = np.random.random((2,2))\n",
    "print(\"random array :\\n\", a)\n",
    "print()"
   ]
  },
  {
   "cell_type": "code",
   "execution_count": 5,
   "metadata": {},
   "outputs": [
    {
     "name": "stdout",
     "output_type": "stream",
     "text": [
      "empty array :\n",
      " [[0. 0. 0.]\n",
      " [0. 0. 0.]]\n",
      "\n"
     ]
    }
   ],
   "source": [
    "a = np.empty((2,3))\n",
    "print(\"empty array :\\n\", a)  # Note that an empty array will have some random data inside\n",
    "print()"
   ]
  },
  {
   "cell_type": "code",
   "execution_count": 6,
   "metadata": {},
   "outputs": [
    {
     "name": "stdout",
     "output_type": "stream",
     "text": [
      "from 10 to 30 in increments of 5: [10 15 20 25]\n",
      "\n",
      "from 0 to 2 in increments of 0.3 [0.  0.3 0.6 0.9 1.2 1.5 1.8]\n",
      "\n",
      "Array of 9 numbers equally spaced from 0 to 2 [0.   0.25 0.5  0.75 1.   1.25 1.5  1.75 2.  ]\n"
     ]
    }
   ],
   "source": [
    "# Creating a 1D array of numbers from 10 to 30 in increments of 5\n",
    "a = np.arange( 10, 30, 5 )\n",
    "print(\"from 10 to 30 in increments of 5:\", a)\n",
    "print()\n",
    "\n",
    "# Creating a 1D array of numbers from 0 to 2 in increments of 0.3\n",
    "a= np.arange( 0, 2, 0.3 )\n",
    "print(\"from 0 to 2 in increments of 0.3\", a)\n",
    "print()\n",
    "\n",
    "# Creating a 1D array of 9 numbers equally spaced from 0 to 2 \n",
    "a = np.linspace( 0, 2, 9 )\n",
    "print(\"Array of 9 numbers equally spaced from 0 to 2\", a)"
   ]
  },
  {
   "cell_type": "markdown",
   "metadata": {},
   "source": [
    "# Basic Arithmetic\n",
    "In Numpy, arithmetic operators on arrays are always applied elementwise. A new array is filled and returned with the result.\n",
    "\n"
   ]
  },
  {
   "cell_type": "code",
   "execution_count": 7,
   "metadata": {},
   "outputs": [
    {
     "name": "stdout",
     "output_type": "stream",
     "text": [
      "[20 29 38 47]\n"
     ]
    }
   ],
   "source": [
    "# create 2 arrays a and b, and subtract b from a\n",
    "a = np.array( [20,30,40,50] )\n",
    "b = np.array( [0, 1, 2, 3] )\n",
    "c = a - b\n",
    "print(c)"
   ]
  },
  {
   "cell_type": "code",
   "execution_count": 8,
   "metadata": {},
   "outputs": [
    {
     "name": "stdout",
     "output_type": "stream",
     "text": [
      "[0 1 2 3]\n",
      "[0 1 4 9]\n"
     ]
    }
   ],
   "source": [
    "# You can also perform scalar operations elementwise on the entire array\n",
    "print(b)\n",
    "c = b**2\n",
    "print(c)"
   ]
  },
  {
   "cell_type": "code",
   "execution_count": 9,
   "metadata": {},
   "outputs": [
    {
     "name": "stdout",
     "output_type": "stream",
     "text": [
      "[20 30 40 50]\n",
      "[ 9.12945251 -9.88031624  7.4511316  -2.62374854]\n"
     ]
    }
   ],
   "source": [
    "#You can also apply functions\n",
    "print(a)\n",
    "c = 10*np.sin(a)\n",
    "print(c)"
   ]
  },
  {
   "cell_type": "code",
   "execution_count": 10,
   "metadata": {},
   "outputs": [
    {
     "name": "stdout",
     "output_type": "stream",
     "text": [
      "[20 30 40 50]\n",
      "[0 1 2 3]\n",
      "this is a * b: [  0  30  80 150]\n"
     ]
    }
   ],
   "source": [
    "#Operation between arrays are always applied elementwise\n",
    "print(a)\n",
    "print(b)\n",
    "print(\"this is a * b:\", a * b)"
   ]
  },
  {
   "cell_type": "code",
   "execution_count": 11,
   "metadata": {},
   "outputs": [
    {
     "name": "stdout",
     "output_type": "stream",
     "text": [
      "[20 30 40 50]\n",
      "50\n",
      "20\n",
      "140\n"
     ]
    }
   ],
   "source": [
    "# There are many quick and useful functions in numpy that you will use frequently like these\n",
    "print(a)\n",
    "print(a.max()) \n",
    "print(a.min()) \n",
    "print(a.sum()) "
   ]
  },
  {
   "cell_type": "code",
   "execution_count": 12,
   "metadata": {},
   "outputs": [
    {
     "name": "stdout",
     "output_type": "stream",
     "text": [
      "multidimensional array:\n",
      " [[ 0  1  2  3]\n",
      " [ 4  5  6  7]\n",
      " [ 8  9 10 11]]\n",
      "\n",
      "sum of colums (axis0):\n",
      " [12 15 18 21] \n",
      "\n",
      "sum of rows (axis1):\n",
      " [ 6 22 38] \n",
      "\n"
     ]
    }
   ],
   "source": [
    "# If you have a multi-dimensional array, use the \"axis\" parameter\n",
    "d = np.arange(12).reshape(3,4)\n",
    "print(\"multidimensional array:\\n\", d)\n",
    "print()\n",
    "\n",
    "print(\"sum of colums (axis0):\\n\", d.sum(axis=0),\"\\n\")\n",
    "print(\"sum of rows (axis1):\\n\", d.sum(axis=1),\"\\n\")"
   ]
  },
  {
   "cell_type": "code",
   "execution_count": 13,
   "metadata": {},
   "outputs": [
    {
     "name": "stdout",
     "output_type": "stream",
     "text": [
      "[[ 0  1  2  3]\n",
      " [ 4  5  6  7]\n",
      " [ 8  9 10 11]] \n",
      "\n",
      "[[ 0  4  8]\n",
      " [ 1  5  9]\n",
      " [ 2  6 10]\n",
      " [ 3  7 11]] \n",
      "\n"
     ]
    }
   ],
   "source": [
    "# Transpose a matrix\n",
    "print(d, \"\\n\")\n",
    "\n",
    "print(d.T,\"\\n\")"
   ]
  },
  {
   "cell_type": "code",
   "execution_count": 14,
   "metadata": {},
   "outputs": [
    {
     "name": "stdout",
     "output_type": "stream",
     "text": [
      "<class 'list'> <class 'numpy.ndarray'> [1 2 3]\n"
     ]
    }
   ],
   "source": [
    "# convert a list to an np array\n",
    "\n",
    "a_list = [1,2,3]\n",
    "a_array = np.asarray(a_list)\n",
    "print(type(a_list), type(a_array), a_array)"
   ]
  },
  {
   "cell_type": "markdown",
   "metadata": {},
   "source": [
    "# Array indexing and slicing"
   ]
  },
  {
   "cell_type": "code",
   "execution_count": 15,
   "metadata": {},
   "outputs": [
    {
     "name": "stdout",
     "output_type": "stream",
     "text": [
      "2\n",
      "[2 3 4]\n",
      "[0 1 2 3 4 5 6 7]\n",
      "10\n"
     ]
    }
   ],
   "source": [
    "# NP arrays are indexed and sliced as any other iterable\n",
    "\n",
    "a = np.array([0, 1, 2, 3, 4, 5, 6, 7, 8, 9, 10])\n",
    "print(a[2])\n",
    "print(a[2:5])\n",
    "print(a[:8])\n",
    "print(a[-1])"
   ]
  },
  {
   "cell_type": "code",
   "execution_count": 16,
   "metadata": {},
   "outputs": [
    {
     "name": "stdout",
     "output_type": "stream",
     "text": [
      "23 \n",
      "\n",
      "[ 1 11 21 31 41] \n",
      "\n",
      "[ 1 11 21 31 41] \n",
      "\n",
      "[[10 11 12 13]\n",
      " [20 21 22 23]] \n",
      "\n"
     ]
    }
   ],
   "source": [
    "b = np.array([[ 0,  1,  2,  3],\n",
    "     [10, 11, 12, 13],\n",
    "     [20, 21, 22, 23],\n",
    "     [30, 31, 32, 33],\n",
    "[40, 41, 42, 43]])\n",
    "\n",
    "print(b[2,3],\"\\n\")\n",
    "print(b[0:5, 1],\"\\n\") #  each row in the second column of b --> [ 1, 11, 21, 31, 41]\n",
    "print(b[:, 1],\"\\n\")   #  same thing as above --> [ 1, 11, 21, 31, 41]\n",
    "print(b[1:3, :],\"\\n\") #  each column in the second and third row of b --> [[10, 11, 12, 13], [20, 21, 22, 23]]\n"
   ]
  },
  {
   "cell_type": "code",
   "execution_count": 17,
   "metadata": {},
   "outputs": [
    {
     "name": "stdout",
     "output_type": "stream",
     "text": [
      "[0 1 2 3]\n",
      "[10 11 12 13]\n",
      "[20 21 22 23]\n",
      "[30 31 32 33]\n",
      "[40 41 42 43]\n"
     ]
    }
   ],
   "source": [
    "# Iteranting over an np matrix\n",
    "# the outer loop is done in respect to the fisrt axis (the rows)\n",
    "for row in b:\n",
    "    print(row)\n",
    "\n"
   ]
  },
  {
   "cell_type": "markdown",
   "metadata": {},
   "source": [
    "### These are all the Numpy data types at your disposal\n",
    "\n",
    "np.int64   # Signed 64-bit integer types\n",
    "\n",
    "np.float32 # Standard double-precision floating point\n",
    "\n",
    "np.complex # Complex numbers represented by 128 floats\n",
    "\n",
    "np.bool    # Boolean type storing TRUE and FALSE values\n",
    "\n",
    "np.object  # Python object type\n",
    "\n",
    "np.string  # Fixed-length string type\n",
    "\n",
    "np.unicode # Fixed-length unicode type\n"
   ]
  },
  {
   "cell_type": "markdown",
   "metadata": {},
   "source": [
    "## Boolean operations in numpy arrays"
   ]
  },
  {
   "cell_type": "code",
   "execution_count": 18,
   "metadata": {},
   "outputs": [
    {
     "name": "stdout",
     "output_type": "stream",
     "text": [
      "check if each elemente of a is equal to b\n",
      " [False False  True] \n",
      "\n",
      "check if each elemente of a is less than or equal than 2\n",
      " [ True  True False] \n",
      "\n"
     ]
    }
   ],
   "source": [
    "a = np.array([1, 2, 3])\n",
    "b = np.array([5, 4, 3])\n",
    "\n",
    "# If we compare directly we get a boolean value for each element\n",
    "print(\"check if each elemente of a is equal to b\\n\", a == b, \"\\n\")\n",
    "\n",
    "print(\"check if each elemente of a is less than or equal than 2\\n\", a <= 2, \"\\n\")"
   ]
  },
  {
   "cell_type": "markdown",
   "metadata": {},
   "source": [
    "## Basic statistics with numpy arrays\n"
   ]
  },
  {
   "cell_type": "code",
   "execution_count": 19,
   "metadata": {},
   "outputs": [
    {
     "name": "stdout",
     "output_type": "stream",
     "text": [
      "Smallest value of each row: [3 3 2]\n",
      "largest value of each row: [7 8 9] \n",
      "\n",
      "Smallest value of each colum: [2 4 3]\n",
      "largest value of the matrix: 9\n"
     ]
    }
   ],
   "source": [
    "a = np.array(\n",
    "    [[3,7,5],\n",
    "     [8,4,3],\n",
    "     [2,4,9]])\n",
    "\n",
    "# get the minimum value of axis 1 (rows)\n",
    "print(\"Smallest value of each row:\", np.amin(a,1))\n",
    "\n",
    "# get the max value of axis 1 (rows)\n",
    "print(\"largest value of each row:\", np.amax(a,1),\"\\n\")\n",
    "\n",
    "## get the minimum value of axis 0 (columns)\n",
    "print(\"Smallest value of each colum:\", np.amin(a,0))\n",
    "\n",
    "# Get largest value of the matrix\n",
    "print(\"largest value of the matrix:\", np.max(a))"
   ]
  },
  {
   "cell_type": "code",
   "execution_count": 69,
   "metadata": {},
   "outputs": [
    {
     "name": "stdout",
     "output_type": "stream",
     "text": [
      "[[30 40 70]\n",
      " [80 20 10]\n",
      " [50 90 60]] \n",
      "\n",
      "median of the whole matrix: 50.0 \n",
      "\n",
      "median of the rows: [ 40.  20.  60.] \n",
      "\n",
      "median of the columns: [ 50.  40.  60.] \n",
      "\n"
     ]
    }
   ],
   "source": [
    "a = np.array(\n",
    "    [[30,40,70],\n",
    "     [80,20,10],\n",
    "     [50,90,60]]) \n",
    "\n",
    "print(a,\"\\n\")\n",
    "\n",
    "print(\"median of the whole matrix:\", np.median(a),\"\\n\")\n",
    "print(\"median of the rows:\", np.median(a, 1),\"\\n\")\n",
    "print(\"median of the columns:\", np.median(a, 0),\"\\n\")\n"
   ]
  },
  {
   "cell_type": "code",
   "execution_count": 20,
   "metadata": {},
   "outputs": [
    {
     "name": "stdout",
     "output_type": "stream",
     "text": [
      "[[30 40 70]\n",
      " [80 20 10]\n",
      " [50 90 60]] \n",
      "\n",
      "mean of the whole matrix: 50.0 \n",
      "\n",
      "mean of the rows: [46.66666667 36.66666667 66.66666667] \n",
      "\n",
      "mean of the columns: [53.33333333 50.         46.66666667] \n",
      "\n"
     ]
    }
   ],
   "source": [
    "a = np.array(\n",
    "    [[30,40,70],\n",
    "     [80,20,10],\n",
    "     [50,90,60]]) \n",
    "\n",
    "print(a,\"\\n\")\n",
    "\n",
    "print(\"mean of the whole matrix:\", np.mean(a),\"\\n\")\n",
    "print(\"mean of the rows:\", np.mean(a, 1),\"\\n\")\n",
    "print(\"mean of the columns:\", np.mean(a, 0),\"\\n\")"
   ]
  },
  {
   "cell_type": "markdown",
   "metadata": {},
   "source": [
    "# Average\n",
    "Weighted average is an average resulting from the multiplication of each component by a factor reflecting its importance. The numpy.average() function computes the weighted average of elements in an array according to their respective weight given in another array. The function can have an axis parameter. If the axis is not specified, the array is flattened.\n",
    "\n",
    "Considering an array [1,2,3,4] and corresponding weights [4,3,2,1], the weighted average is calculated by adding the product of the corresponding elements and dividing the sum by the sum of weights.\n",
    "\n",
    "Weighted average = (1 x 4 + 2 x 3 + 3 * 2 + 4 * 1)/(4+3+2+1)"
   ]
  },
  {
   "cell_type": "code",
   "execution_count": 21,
   "metadata": {},
   "outputs": [
    {
     "name": "stdout",
     "output_type": "stream",
     "text": [
      "array average is: 2.5\n",
      "array average is: 2.0\n"
     ]
    }
   ],
   "source": [
    "a = np.array([1,2,3,4]) \n",
    "print(\"array average is:\", np.average(a)) # same as mean if no weight is specified\n",
    "\n",
    "\n",
    "# Weighted average\n",
    "wts = np.array([4,3,2,1]) \n",
    "print(\"array average is:\", np.average(a,weights = wts))\n",
    "\n"
   ]
  },
  {
   "cell_type": "markdown",
   "metadata": {},
   "source": [
    "## Standard Deviation\n"
   ]
  },
  {
   "cell_type": "code",
   "execution_count": 22,
   "metadata": {},
   "outputs": [
    {
     "name": "stdout",
     "output_type": "stream",
     "text": [
      "Std of a: 1.118033988749895\n",
      "Std of a: 1.25\n"
     ]
    }
   ],
   "source": [
    "# STD\n",
    "print(\"Std of a:\", np.std(a))\n",
    "\n",
    "# Variance\n",
    "print(\"Std of a:\", np.var(a))"
   ]
  },
  {
   "cell_type": "code",
   "execution_count": null,
   "metadata": {
    "collapsed": true
   },
   "outputs": [],
   "source": []
  }
 ],
 "metadata": {
  "kernelspec": {
   "display_name": "Python 3",
   "language": "python",
   "name": "python3"
  },
  "language_info": {
   "codemirror_mode": {
    "name": "ipython",
    "version": 3
   },
   "file_extension": ".py",
   "mimetype": "text/x-python",
   "name": "python",
   "nbconvert_exporter": "python",
   "pygments_lexer": "ipython3",
   "version": "3.6.2"
  }
 },
 "nbformat": 4,
 "nbformat_minor": 2
}
