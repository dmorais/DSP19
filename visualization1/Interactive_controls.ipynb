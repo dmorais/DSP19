{
 "cells": [
  {
   "cell_type": "markdown",
   "metadata": {},
   "source": [
    "## We saw that  it is possible to filter and manipulate dataframes using pandas methods\n",
    "#### Let's take a look at them again"
   ]
  },
  {
   "cell_type": "code",
   "execution_count": 1,
   "metadata": {},
   "outputs": [],
   "source": [
    "# Data science imports\n",
    "import pandas as pd\n",
    "import numpy as np\n",
    "\n",
    "# Options for pandas\n",
    "pd.options.display.max_rows = 10"
   ]
  },
  {
   "cell_type": "code",
   "execution_count": 2,
   "metadata": {},
   "outputs": [
    {
     "data": {
      "text/html": [
       "<div>\n",
       "<style scoped>\n",
       "    .dataframe tbody tr th:only-of-type {\n",
       "        vertical-align: middle;\n",
       "    }\n",
       "\n",
       "    .dataframe tbody tr th {\n",
       "        vertical-align: top;\n",
       "    }\n",
       "\n",
       "    .dataframe thead th {\n",
       "        text-align: right;\n",
       "    }\n",
       "</style>\n",
       "<table border=\"1\" class=\"dataframe\">\n",
       "  <thead>\n",
       "    <tr style=\"text-align: right;\">\n",
       "      <th></th>\n",
       "      <th>id</th>\n",
       "      <th>log_FC</th>\n",
       "      <th>edger.p.value</th>\n",
       "      <th>edger.adj.p.value</th>\n",
       "      <th>sprot_Top_BLASTX_hit</th>\n",
       "    </tr>\n",
       "  </thead>\n",
       "  <tbody>\n",
       "    <tr>\n",
       "      <th>0</th>\n",
       "      <td>EDO2139267|c0_g1_i8</td>\n",
       "      <td>-10.269</td>\n",
       "      <td>1.000000e-14</td>\n",
       "      <td>1.600000e-09</td>\n",
       "      <td>.</td>\n",
       "    </tr>\n",
       "    <tr>\n",
       "      <th>1</th>\n",
       "      <td>EDO61712|c1_g3_i1</td>\n",
       "      <td>-11.645</td>\n",
       "      <td>4.100000e-14</td>\n",
       "      <td>2.700000e-09</td>\n",
       "      <td>.</td>\n",
       "    </tr>\n",
       "    <tr>\n",
       "      <th>2</th>\n",
       "      <td>EDO2102112|c1_g2_i3</td>\n",
       "      <td>-11.645</td>\n",
       "      <td>5.300000e-14</td>\n",
       "      <td>2.700000e-09</td>\n",
       "      <td>PIP22_MAIZE^PIP22_MAIZE^Q:1-81,H:265-291^92.59...</td>\n",
       "    </tr>\n",
       "    <tr>\n",
       "      <th>3</th>\n",
       "      <td>EDO212082|c0_g2_i1</td>\n",
       "      <td>11.503</td>\n",
       "      <td>1.200000e-13</td>\n",
       "      <td>4.400000e-09</td>\n",
       "      <td>CHS2_RUTGR^CHS2_RUTGR^Q:94-1263,H:4-393^69.487...</td>\n",
       "    </tr>\n",
       "    <tr>\n",
       "      <th>4</th>\n",
       "      <td>EDO63554|c1_g4_i8</td>\n",
       "      <td>-11.690</td>\n",
       "      <td>1.400000e-13</td>\n",
       "      <td>4.400000e-09</td>\n",
       "      <td>.</td>\n",
       "    </tr>\n",
       "    <tr>\n",
       "      <th>...</th>\n",
       "      <td>...</td>\n",
       "      <td>...</td>\n",
       "      <td>...</td>\n",
       "      <td>...</td>\n",
       "      <td>...</td>\n",
       "    </tr>\n",
       "    <tr>\n",
       "      <th>9982</th>\n",
       "      <td>EDO2120011|c0_g1_i1</td>\n",
       "      <td>6.605</td>\n",
       "      <td>1.900000e-02</td>\n",
       "      <td>3.000000e-01</td>\n",
       "      <td>YAEQ_SCHPO^YAEQ_SCHPO^Q:28-237,H:16-78^44.286%...</td>\n",
       "    </tr>\n",
       "    <tr>\n",
       "      <th>9983</th>\n",
       "      <td>EDO212510|c0_g1_i1</td>\n",
       "      <td>6.605</td>\n",
       "      <td>1.900000e-02</td>\n",
       "      <td>3.000000e-01</td>\n",
       "      <td>CBF1_CANAL^CBF1_CANAL^Q:42-224,H:147-205^54.09...</td>\n",
       "    </tr>\n",
       "    <tr>\n",
       "      <th>9984</th>\n",
       "      <td>EDO214101|c0_g1_i1</td>\n",
       "      <td>6.649</td>\n",
       "      <td>1.900000e-02</td>\n",
       "      <td>2.900000e-01</td>\n",
       "      <td>LACP_KLULA^LACP_KLULA^Q:3-767,H:275-531^26.641...</td>\n",
       "    </tr>\n",
       "    <tr>\n",
       "      <th>9985</th>\n",
       "      <td>EDO2197965|c0_g1_i1</td>\n",
       "      <td>6.649</td>\n",
       "      <td>1.900000e-02</td>\n",
       "      <td>2.900000e-01</td>\n",
       "      <td>.</td>\n",
       "    </tr>\n",
       "    <tr>\n",
       "      <th>9986</th>\n",
       "      <td>EDO213965|c0_g1_i1</td>\n",
       "      <td>6.605</td>\n",
       "      <td>1.900000e-02</td>\n",
       "      <td>3.000000e-01</td>\n",
       "      <td>.</td>\n",
       "    </tr>\n",
       "  </tbody>\n",
       "</table>\n",
       "<p>9987 rows × 5 columns</p>\n",
       "</div>"
      ],
      "text/plain": [
       "                       id  log_FC  edger.p.value  edger.adj.p.value  \\\n",
       "0     EDO2139267|c0_g1_i8 -10.269   1.000000e-14       1.600000e-09   \n",
       "1       EDO61712|c1_g3_i1 -11.645   4.100000e-14       2.700000e-09   \n",
       "2     EDO2102112|c1_g2_i3 -11.645   5.300000e-14       2.700000e-09   \n",
       "3      EDO212082|c0_g2_i1  11.503   1.200000e-13       4.400000e-09   \n",
       "4       EDO63554|c1_g4_i8 -11.690   1.400000e-13       4.400000e-09   \n",
       "...                   ...     ...            ...                ...   \n",
       "9982  EDO2120011|c0_g1_i1   6.605   1.900000e-02       3.000000e-01   \n",
       "9983   EDO212510|c0_g1_i1   6.605   1.900000e-02       3.000000e-01   \n",
       "9984   EDO214101|c0_g1_i1   6.649   1.900000e-02       2.900000e-01   \n",
       "9985  EDO2197965|c0_g1_i1   6.649   1.900000e-02       2.900000e-01   \n",
       "9986   EDO213965|c0_g1_i1   6.605   1.900000e-02       3.000000e-01   \n",
       "\n",
       "                                   sprot_Top_BLASTX_hit  \n",
       "0                                                     .  \n",
       "1                                                     .  \n",
       "2     PIP22_MAIZE^PIP22_MAIZE^Q:1-81,H:265-291^92.59...  \n",
       "3     CHS2_RUTGR^CHS2_RUTGR^Q:94-1263,H:4-393^69.487...  \n",
       "4                                                     .  \n",
       "...                                                 ...  \n",
       "9982  YAEQ_SCHPO^YAEQ_SCHPO^Q:28-237,H:16-78^44.286%...  \n",
       "9983  CBF1_CANAL^CBF1_CANAL^Q:42-224,H:147-205^54.09...  \n",
       "9984  LACP_KLULA^LACP_KLULA^Q:3-767,H:275-531^26.641...  \n",
       "9985                                                  .  \n",
       "9986                                                  .  \n",
       "\n",
       "[9987 rows x 5 columns]"
      ]
     },
     "execution_count": 2,
     "metadata": {},
     "output_type": "execute_result"
    }
   ],
   "source": [
    "# read data\n",
    "df_trans = pd.read_csv(\"test-data/tempo1_trinotate_results_filtered.csv\", sep=\"\\t\")\n",
    "df_trans"
   ]
  },
  {
   "cell_type": "code",
   "execution_count": 3,
   "metadata": {},
   "outputs": [
    {
     "data": {
      "text/html": [
       "<div>\n",
       "<style scoped>\n",
       "    .dataframe tbody tr th:only-of-type {\n",
       "        vertical-align: middle;\n",
       "    }\n",
       "\n",
       "    .dataframe tbody tr th {\n",
       "        vertical-align: top;\n",
       "    }\n",
       "\n",
       "    .dataframe thead th {\n",
       "        text-align: right;\n",
       "    }\n",
       "</style>\n",
       "<table border=\"1\" class=\"dataframe\">\n",
       "  <thead>\n",
       "    <tr style=\"text-align: right;\">\n",
       "      <th></th>\n",
       "      <th>id</th>\n",
       "      <th>log_FC</th>\n",
       "      <th>edger.p.value</th>\n",
       "      <th>edger.adj.p.value</th>\n",
       "      <th>sprot_Top_BLASTX_hit</th>\n",
       "    </tr>\n",
       "  </thead>\n",
       "  <tbody>\n",
       "    <tr>\n",
       "      <th>3</th>\n",
       "      <td>EDO212082|c0_g2_i1</td>\n",
       "      <td>11.503</td>\n",
       "      <td>1.200000e-13</td>\n",
       "      <td>4.400000e-09</td>\n",
       "      <td>CHS2_RUTGR^CHS2_RUTGR^Q:94-1263,H:4-393^69.487...</td>\n",
       "    </tr>\n",
       "    <tr>\n",
       "      <th>5</th>\n",
       "      <td>EDO2102373|c1_g1_i7</td>\n",
       "      <td>11.049</td>\n",
       "      <td>2.200000e-12</td>\n",
       "      <td>5.700000e-08</td>\n",
       "      <td>RENT1_ARATH^RENT1_ARATH^Q:190-3933,H:1-1233^82...</td>\n",
       "    </tr>\n",
       "    <tr>\n",
       "      <th>6</th>\n",
       "      <td>EDO294390|c0_g2_i7</td>\n",
       "      <td>11.691</td>\n",
       "      <td>3.100000e-12</td>\n",
       "      <td>6.900000e-08</td>\n",
       "      <td>DNJH_CUCSA^DNJH_CUCSA^Q:129-1268,H:1-376^73.49...</td>\n",
       "    </tr>\n",
       "    <tr>\n",
       "      <th>7</th>\n",
       "      <td>EDO294141|c0_g1_i2</td>\n",
       "      <td>8.269</td>\n",
       "      <td>6.700000e-12</td>\n",
       "      <td>1.300000e-07</td>\n",
       "      <td>HSP11_SOYBN^HSP11_SOYBN^Q:181-657,H:1-153^73.5...</td>\n",
       "    </tr>\n",
       "    <tr>\n",
       "      <th>9</th>\n",
       "      <td>EDO294141|c0_g1_i3</td>\n",
       "      <td>8.995</td>\n",
       "      <td>1.300000e-11</td>\n",
       "      <td>1.800000e-07</td>\n",
       "      <td>HSP12_MEDSA^HSP12_MEDSA^Q:181-510,H:1-109^72.7...</td>\n",
       "    </tr>\n",
       "    <tr>\n",
       "      <th>...</th>\n",
       "      <td>...</td>\n",
       "      <td>...</td>\n",
       "      <td>...</td>\n",
       "      <td>...</td>\n",
       "      <td>...</td>\n",
       "    </tr>\n",
       "    <tr>\n",
       "      <th>9982</th>\n",
       "      <td>EDO2120011|c0_g1_i1</td>\n",
       "      <td>6.605</td>\n",
       "      <td>1.900000e-02</td>\n",
       "      <td>3.000000e-01</td>\n",
       "      <td>YAEQ_SCHPO^YAEQ_SCHPO^Q:28-237,H:16-78^44.286%...</td>\n",
       "    </tr>\n",
       "    <tr>\n",
       "      <th>9983</th>\n",
       "      <td>EDO212510|c0_g1_i1</td>\n",
       "      <td>6.605</td>\n",
       "      <td>1.900000e-02</td>\n",
       "      <td>3.000000e-01</td>\n",
       "      <td>CBF1_CANAL^CBF1_CANAL^Q:42-224,H:147-205^54.09...</td>\n",
       "    </tr>\n",
       "    <tr>\n",
       "      <th>9984</th>\n",
       "      <td>EDO214101|c0_g1_i1</td>\n",
       "      <td>6.649</td>\n",
       "      <td>1.900000e-02</td>\n",
       "      <td>2.900000e-01</td>\n",
       "      <td>LACP_KLULA^LACP_KLULA^Q:3-767,H:275-531^26.641...</td>\n",
       "    </tr>\n",
       "    <tr>\n",
       "      <th>9985</th>\n",
       "      <td>EDO2197965|c0_g1_i1</td>\n",
       "      <td>6.649</td>\n",
       "      <td>1.900000e-02</td>\n",
       "      <td>2.900000e-01</td>\n",
       "      <td>.</td>\n",
       "    </tr>\n",
       "    <tr>\n",
       "      <th>9986</th>\n",
       "      <td>EDO213965|c0_g1_i1</td>\n",
       "      <td>6.605</td>\n",
       "      <td>1.900000e-02</td>\n",
       "      <td>3.000000e-01</td>\n",
       "      <td>.</td>\n",
       "    </tr>\n",
       "  </tbody>\n",
       "</table>\n",
       "<p>7204 rows × 5 columns</p>\n",
       "</div>"
      ],
      "text/plain": [
       "                       id  log_FC  edger.p.value  edger.adj.p.value  \\\n",
       "3      EDO212082|c0_g2_i1  11.503   1.200000e-13       4.400000e-09   \n",
       "5     EDO2102373|c1_g1_i7  11.049   2.200000e-12       5.700000e-08   \n",
       "6      EDO294390|c0_g2_i7  11.691   3.100000e-12       6.900000e-08   \n",
       "7      EDO294141|c0_g1_i2   8.269   6.700000e-12       1.300000e-07   \n",
       "9      EDO294141|c0_g1_i3   8.995   1.300000e-11       1.800000e-07   \n",
       "...                   ...     ...            ...                ...   \n",
       "9982  EDO2120011|c0_g1_i1   6.605   1.900000e-02       3.000000e-01   \n",
       "9983   EDO212510|c0_g1_i1   6.605   1.900000e-02       3.000000e-01   \n",
       "9984   EDO214101|c0_g1_i1   6.649   1.900000e-02       2.900000e-01   \n",
       "9985  EDO2197965|c0_g1_i1   6.649   1.900000e-02       2.900000e-01   \n",
       "9986   EDO213965|c0_g1_i1   6.605   1.900000e-02       3.000000e-01   \n",
       "\n",
       "                                   sprot_Top_BLASTX_hit  \n",
       "3     CHS2_RUTGR^CHS2_RUTGR^Q:94-1263,H:4-393^69.487...  \n",
       "5     RENT1_ARATH^RENT1_ARATH^Q:190-3933,H:1-1233^82...  \n",
       "6     DNJH_CUCSA^DNJH_CUCSA^Q:129-1268,H:1-376^73.49...  \n",
       "7     HSP11_SOYBN^HSP11_SOYBN^Q:181-657,H:1-153^73.5...  \n",
       "9     HSP12_MEDSA^HSP12_MEDSA^Q:181-510,H:1-109^72.7...  \n",
       "...                                                 ...  \n",
       "9982  YAEQ_SCHPO^YAEQ_SCHPO^Q:28-237,H:16-78^44.286%...  \n",
       "9983  CBF1_CANAL^CBF1_CANAL^Q:42-224,H:147-205^54.09...  \n",
       "9984  LACP_KLULA^LACP_KLULA^Q:3-767,H:275-531^26.641...  \n",
       "9985                                                  .  \n",
       "9986                                                  .  \n",
       "\n",
       "[7204 rows x 5 columns]"
      ]
     },
     "execution_count": 3,
     "metadata": {},
     "output_type": "execute_result"
    }
   ],
   "source": [
    "# Let's filter for LogFC > 4\n",
    "df_trans.loc[df_trans['log_FC'] > 4]"
   ]
  },
  {
   "cell_type": "code",
   "execution_count": 4,
   "metadata": {},
   "outputs": [
    {
     "data": {
      "text/html": [
       "<div>\n",
       "<style scoped>\n",
       "    .dataframe tbody tr th:only-of-type {\n",
       "        vertical-align: middle;\n",
       "    }\n",
       "\n",
       "    .dataframe tbody tr th {\n",
       "        vertical-align: top;\n",
       "    }\n",
       "\n",
       "    .dataframe thead th {\n",
       "        text-align: right;\n",
       "    }\n",
       "</style>\n",
       "<table border=\"1\" class=\"dataframe\">\n",
       "  <thead>\n",
       "    <tr style=\"text-align: right;\">\n",
       "      <th></th>\n",
       "      <th>id</th>\n",
       "      <th>log_FC</th>\n",
       "      <th>edger.p.value</th>\n",
       "      <th>edger.adj.p.value</th>\n",
       "      <th>sprot_Top_BLASTX_hit</th>\n",
       "    </tr>\n",
       "  </thead>\n",
       "  <tbody>\n",
       "    <tr>\n",
       "      <th>396</th>\n",
       "      <td>EDO61272|c1_g3_i1</td>\n",
       "      <td>8.215</td>\n",
       "      <td>0.000027</td>\n",
       "      <td>0.011</td>\n",
       "      <td>SCE1_ARATH^SCE1_ARATH^Q:2-151,H:111-160^82%ID^...</td>\n",
       "    </tr>\n",
       "    <tr>\n",
       "      <th>397</th>\n",
       "      <td>EDO23879|c0_g1_i1</td>\n",
       "      <td>10.780</td>\n",
       "      <td>0.000027</td>\n",
       "      <td>0.011</td>\n",
       "      <td>.</td>\n",
       "    </tr>\n",
       "    <tr>\n",
       "      <th>398</th>\n",
       "      <td>EDO2134324|c0_g1_i2</td>\n",
       "      <td>10.829</td>\n",
       "      <td>0.000027</td>\n",
       "      <td>0.011</td>\n",
       "      <td>.</td>\n",
       "    </tr>\n",
       "    <tr>\n",
       "      <th>400</th>\n",
       "      <td>EDO254305|c0_g1_i4</td>\n",
       "      <td>10.393</td>\n",
       "      <td>0.000028</td>\n",
       "      <td>0.011</td>\n",
       "      <td>GLYR1_ARATH^GLYR1_ARATH^Q:118-984,H:1-289^80.6...</td>\n",
       "    </tr>\n",
       "    <tr>\n",
       "      <th>401</th>\n",
       "      <td>EDO2174380|c0_g1_i1</td>\n",
       "      <td>10.765</td>\n",
       "      <td>0.000028</td>\n",
       "      <td>0.011</td>\n",
       "      <td>.</td>\n",
       "    </tr>\n",
       "    <tr>\n",
       "      <th>...</th>\n",
       "      <td>...</td>\n",
       "      <td>...</td>\n",
       "      <td>...</td>\n",
       "      <td>...</td>\n",
       "      <td>...</td>\n",
       "    </tr>\n",
       "    <tr>\n",
       "      <th>9982</th>\n",
       "      <td>EDO2120011|c0_g1_i1</td>\n",
       "      <td>6.605</td>\n",
       "      <td>0.019000</td>\n",
       "      <td>0.300</td>\n",
       "      <td>YAEQ_SCHPO^YAEQ_SCHPO^Q:28-237,H:16-78^44.286%...</td>\n",
       "    </tr>\n",
       "    <tr>\n",
       "      <th>9983</th>\n",
       "      <td>EDO212510|c0_g1_i1</td>\n",
       "      <td>6.605</td>\n",
       "      <td>0.019000</td>\n",
       "      <td>0.300</td>\n",
       "      <td>CBF1_CANAL^CBF1_CANAL^Q:42-224,H:147-205^54.09...</td>\n",
       "    </tr>\n",
       "    <tr>\n",
       "      <th>9984</th>\n",
       "      <td>EDO214101|c0_g1_i1</td>\n",
       "      <td>6.649</td>\n",
       "      <td>0.019000</td>\n",
       "      <td>0.290</td>\n",
       "      <td>LACP_KLULA^LACP_KLULA^Q:3-767,H:275-531^26.641...</td>\n",
       "    </tr>\n",
       "    <tr>\n",
       "      <th>9985</th>\n",
       "      <td>EDO2197965|c0_g1_i1</td>\n",
       "      <td>6.649</td>\n",
       "      <td>0.019000</td>\n",
       "      <td>0.290</td>\n",
       "      <td>.</td>\n",
       "    </tr>\n",
       "    <tr>\n",
       "      <th>9986</th>\n",
       "      <td>EDO213965|c0_g1_i1</td>\n",
       "      <td>6.605</td>\n",
       "      <td>0.019000</td>\n",
       "      <td>0.300</td>\n",
       "      <td>.</td>\n",
       "    </tr>\n",
       "  </tbody>\n",
       "</table>\n",
       "<p>9590 rows × 5 columns</p>\n",
       "</div>"
      ],
      "text/plain": [
       "                       id  log_FC  edger.p.value  edger.adj.p.value  \\\n",
       "396     EDO61272|c1_g3_i1   8.215       0.000027              0.011   \n",
       "397     EDO23879|c0_g1_i1  10.780       0.000027              0.011   \n",
       "398   EDO2134324|c0_g1_i2  10.829       0.000027              0.011   \n",
       "400    EDO254305|c0_g1_i4  10.393       0.000028              0.011   \n",
       "401   EDO2174380|c0_g1_i1  10.765       0.000028              0.011   \n",
       "...                   ...     ...            ...                ...   \n",
       "9982  EDO2120011|c0_g1_i1   6.605       0.019000              0.300   \n",
       "9983   EDO212510|c0_g1_i1   6.605       0.019000              0.300   \n",
       "9984   EDO214101|c0_g1_i1   6.649       0.019000              0.290   \n",
       "9985  EDO2197965|c0_g1_i1   6.649       0.019000              0.290   \n",
       "9986   EDO213965|c0_g1_i1   6.605       0.019000              0.300   \n",
       "\n",
       "                                   sprot_Top_BLASTX_hit  \n",
       "396   SCE1_ARATH^SCE1_ARATH^Q:2-151,H:111-160^82%ID^...  \n",
       "397                                                   .  \n",
       "398                                                   .  \n",
       "400   GLYR1_ARATH^GLYR1_ARATH^Q:118-984,H:1-289^80.6...  \n",
       "401                                                   .  \n",
       "...                                                 ...  \n",
       "9982  YAEQ_SCHPO^YAEQ_SCHPO^Q:28-237,H:16-78^44.286%...  \n",
       "9983  CBF1_CANAL^CBF1_CANAL^Q:42-224,H:147-205^54.09...  \n",
       "9984  LACP_KLULA^LACP_KLULA^Q:3-767,H:275-531^26.641...  \n",
       "9985                                                  .  \n",
       "9986                                                  .  \n",
       "\n",
       "[9590 rows x 5 columns]"
      ]
     },
     "execution_count": 4,
     "metadata": {},
     "output_type": "execute_result"
    }
   ],
   "source": [
    "# Now let's filter for adj.pvalue < 0.01\n",
    "df_trans.loc[df_trans['edger.adj.p.value'] > 0.01]"
   ]
  },
  {
   "cell_type": "markdown",
   "metadata": {},
   "source": [
    "#### This is all very easy, but as you can see this not very flexible when you want to manipulate your data in real time. After all you love excel :( and excel does this.\n",
    "\n",
    "# Don't dispair!!!!\n",
    "\n",
    "#### you will see here how easy is to get the same 'excel' effect in pandas\n",
    "\n",
    "First you will need to install a package called qgrid\n",
    "\n",
    "1- Close your notebook \n",
    "\n",
    "2- From your terminal run \n",
    "\n",
    "```\n",
    "pip install qgrid\n",
    "```\n",
    "\n",
    "3- Now enable the qgrid extension \n",
    "\n",
    "```\n",
    "jupyter nbextension enable --py --sys-prefix qgrid\n",
    "```\n"
   ]
  },
  {
   "cell_type": "code",
   "execution_count": 5,
   "metadata": {
    "scrolled": true
   },
   "outputs": [
    {
     "data": {
      "application/vnd.jupyter.widget-view+json": {
       "model_id": "a4d37e8b95414c439ab1863b7738359a",
       "version_major": 2,
       "version_minor": 0
      },
      "text/plain": [
       "QgridWidget(grid_options={'fullWidthRows': True, 'syncColumnCellResize': True, 'forceFitColumns': True, 'defau…"
      ]
     },
     "metadata": {},
     "output_type": "display_data"
    }
   ],
   "source": [
    "# Let's load our df in qgrid\n",
    "import qgrid\n",
    "qgrid_widget= qgrid.show_grid(df_trans, show_toolbar=True)\n",
    "qgrid_widget"
   ]
  },
  {
   "cell_type": "markdown",
   "metadata": {},
   "source": [
    "## This is a good start\n",
    "#### Can we make better than excel?\n",
    "\n",
    "# Oh yes!!!\n",
    "\n",
    "#### Let's suppose we want to plot some graphs and update them with live controls\n",
    "\n",
    "For that we will have to use a powerful tool in jupyter notebooks called widget.\n",
    "\n",
    "Wigets are a little piece of code that can add amazing functionalities to our plots\n",
    "Let's get started with  some of them.\n",
    "\n",
    "#### First things first\n",
    "1- install the widgets library\n",
    "```\n",
    "pip install ipywidgets\n",
    "```\n",
    "2- Enable them\n",
    "```\n",
    "jupyter nbextension enable --py widgetsnbextension\n",
    "```"
   ]
  },
  {
   "cell_type": "code",
   "execution_count": 6,
   "metadata": {},
   "outputs": [
    {
     "data": {
      "text/html": [
       "<div>\n",
       "<style scoped>\n",
       "    .dataframe tbody tr th:only-of-type {\n",
       "        vertical-align: middle;\n",
       "    }\n",
       "\n",
       "    .dataframe tbody tr th {\n",
       "        vertical-align: top;\n",
       "    }\n",
       "\n",
       "    .dataframe thead th {\n",
       "        text-align: right;\n",
       "    }\n",
       "</style>\n",
       "<table border=\"1\" class=\"dataframe\">\n",
       "  <thead>\n",
       "    <tr style=\"text-align: right;\">\n",
       "      <th></th>\n",
       "      <th>Unnamed: 0</th>\n",
       "      <th>claps</th>\n",
       "      <th>days_since_publication</th>\n",
       "      <th>fans</th>\n",
       "      <th>link</th>\n",
       "      <th>num_responses</th>\n",
       "      <th>publication</th>\n",
       "      <th>published_date</th>\n",
       "      <th>read_ratio</th>\n",
       "      <th>read_time</th>\n",
       "      <th>...</th>\n",
       "      <th>type</th>\n",
       "      <th>views</th>\n",
       "      <th>word_count</th>\n",
       "      <th>claps_per_word</th>\n",
       "      <th>editing_days</th>\n",
       "      <th>&lt;tag&gt;Education</th>\n",
       "      <th>&lt;tag&gt;Data Science</th>\n",
       "      <th>&lt;tag&gt;Towards Data Science</th>\n",
       "      <th>&lt;tag&gt;Machine Learning</th>\n",
       "      <th>&lt;tag&gt;Python</th>\n",
       "    </tr>\n",
       "  </thead>\n",
       "  <tbody>\n",
       "    <tr>\n",
       "      <th>0</th>\n",
       "      <td>121</td>\n",
       "      <td>2</td>\n",
       "      <td>716.053848</td>\n",
       "      <td>2</td>\n",
       "      <td>https://medium.com/p/screw-the-environment-but...</td>\n",
       "      <td>0</td>\n",
       "      <td>None</td>\n",
       "      <td>2017-06-10 14:25:00</td>\n",
       "      <td>42.17</td>\n",
       "      <td>7</td>\n",
       "      <td>...</td>\n",
       "      <td>published</td>\n",
       "      <td>166</td>\n",
       "      <td>1859</td>\n",
       "      <td>0.001076</td>\n",
       "      <td>0</td>\n",
       "      <td>0</td>\n",
       "      <td>0</td>\n",
       "      <td>0</td>\n",
       "      <td>0</td>\n",
       "      <td>0</td>\n",
       "    </tr>\n",
       "    <tr>\n",
       "      <th>1</th>\n",
       "      <td>132</td>\n",
       "      <td>18</td>\n",
       "      <td>708.735909</td>\n",
       "      <td>3</td>\n",
       "      <td>https://medium.com/p/the-vanquishing-of-war-pl...</td>\n",
       "      <td>0</td>\n",
       "      <td>None</td>\n",
       "      <td>2017-06-17 22:02:00</td>\n",
       "      <td>29.51</td>\n",
       "      <td>14</td>\n",
       "      <td>...</td>\n",
       "      <td>published</td>\n",
       "      <td>183</td>\n",
       "      <td>3891</td>\n",
       "      <td>0.004626</td>\n",
       "      <td>0</td>\n",
       "      <td>0</td>\n",
       "      <td>0</td>\n",
       "      <td>0</td>\n",
       "      <td>0</td>\n",
       "      <td>0</td>\n",
       "    </tr>\n",
       "    <tr>\n",
       "      <th>2</th>\n",
       "      <td>119</td>\n",
       "      <td>52</td>\n",
       "      <td>696.116014</td>\n",
       "      <td>20</td>\n",
       "      <td>https://medium.com/p/capstone-project-mercedes...</td>\n",
       "      <td>0</td>\n",
       "      <td>None</td>\n",
       "      <td>2017-06-30 12:55:00</td>\n",
       "      <td>19.98</td>\n",
       "      <td>42</td>\n",
       "      <td>...</td>\n",
       "      <td>published</td>\n",
       "      <td>1121</td>\n",
       "      <td>12025</td>\n",
       "      <td>0.004324</td>\n",
       "      <td>0</td>\n",
       "      <td>0</td>\n",
       "      <td>0</td>\n",
       "      <td>0</td>\n",
       "      <td>1</td>\n",
       "      <td>1</td>\n",
       "    </tr>\n",
       "    <tr>\n",
       "      <th>3</th>\n",
       "      <td>130</td>\n",
       "      <td>0</td>\n",
       "      <td>695.273421</td>\n",
       "      <td>0</td>\n",
       "      <td>https://medium.com/p/home-of-the-scared-5af0fe...</td>\n",
       "      <td>0</td>\n",
       "      <td>None</td>\n",
       "      <td>2017-07-01 09:08:00</td>\n",
       "      <td>35.85</td>\n",
       "      <td>9</td>\n",
       "      <td>...</td>\n",
       "      <td>published</td>\n",
       "      <td>53</td>\n",
       "      <td>2533</td>\n",
       "      <td>0.000000</td>\n",
       "      <td>0</td>\n",
       "      <td>0</td>\n",
       "      <td>0</td>\n",
       "      <td>0</td>\n",
       "      <td>0</td>\n",
       "      <td>0</td>\n",
       "    </tr>\n",
       "    <tr>\n",
       "      <th>4</th>\n",
       "      <td>123</td>\n",
       "      <td>0</td>\n",
       "      <td>691.285764</td>\n",
       "      <td>0</td>\n",
       "      <td>https://medium.com/p/the-triumph-of-peace-f485...</td>\n",
       "      <td>0</td>\n",
       "      <td>None</td>\n",
       "      <td>2017-07-05 08:51:00</td>\n",
       "      <td>8.33</td>\n",
       "      <td>14</td>\n",
       "      <td>...</td>\n",
       "      <td>published</td>\n",
       "      <td>60</td>\n",
       "      <td>3892</td>\n",
       "      <td>0.000000</td>\n",
       "      <td>1</td>\n",
       "      <td>0</td>\n",
       "      <td>0</td>\n",
       "      <td>0</td>\n",
       "      <td>0</td>\n",
       "      <td>0</td>\n",
       "    </tr>\n",
       "    <tr>\n",
       "      <th>...</th>\n",
       "      <td>...</td>\n",
       "      <td>...</td>\n",
       "      <td>...</td>\n",
       "      <td>...</td>\n",
       "      <td>...</td>\n",
       "      <td>...</td>\n",
       "      <td>...</td>\n",
       "      <td>...</td>\n",
       "      <td>...</td>\n",
       "      <td>...</td>\n",
       "      <td>...</td>\n",
       "      <td>...</td>\n",
       "      <td>...</td>\n",
       "      <td>...</td>\n",
       "      <td>...</td>\n",
       "      <td>...</td>\n",
       "      <td>...</td>\n",
       "      <td>...</td>\n",
       "      <td>...</td>\n",
       "      <td>...</td>\n",
       "      <td>...</td>\n",
       "    </tr>\n",
       "    <tr>\n",
       "      <th>128</th>\n",
       "      <td>19</td>\n",
       "      <td>391</td>\n",
       "      <td>135.089829</td>\n",
       "      <td>50</td>\n",
       "      <td>https://towardsdatascience.com/the-reality-of-...</td>\n",
       "      <td>1</td>\n",
       "      <td>Towards Data Science</td>\n",
       "      <td>2019-01-12 13:33:00</td>\n",
       "      <td>24.96</td>\n",
       "      <td>11</td>\n",
       "      <td>...</td>\n",
       "      <td>published</td>\n",
       "      <td>1402</td>\n",
       "      <td>2795</td>\n",
       "      <td>0.139893</td>\n",
       "      <td>8</td>\n",
       "      <td>1</td>\n",
       "      <td>0</td>\n",
       "      <td>0</td>\n",
       "      <td>0</td>\n",
       "      <td>0</td>\n",
       "    </tr>\n",
       "    <tr>\n",
       "      <th>129</th>\n",
       "      <td>11</td>\n",
       "      <td>451</td>\n",
       "      <td>130.956990</td>\n",
       "      <td>49</td>\n",
       "      <td>https://towardsdatascience.com/the-myth-of-us-...</td>\n",
       "      <td>0</td>\n",
       "      <td>Towards Data Science</td>\n",
       "      <td>2019-01-16 16:44:00</td>\n",
       "      <td>27.11</td>\n",
       "      <td>10</td>\n",
       "      <td>...</td>\n",
       "      <td>published</td>\n",
       "      <td>1055</td>\n",
       "      <td>2532</td>\n",
       "      <td>0.178120</td>\n",
       "      <td>15</td>\n",
       "      <td>1</td>\n",
       "      <td>0</td>\n",
       "      <td>0</td>\n",
       "      <td>0</td>\n",
       "      <td>0</td>\n",
       "    </tr>\n",
       "    <tr>\n",
       "      <th>130</th>\n",
       "      <td>16</td>\n",
       "      <td>3700</td>\n",
       "      <td>126.968103</td>\n",
       "      <td>442</td>\n",
       "      <td>https://towardsdatascience.com/the-poisson-dis...</td>\n",
       "      <td>16</td>\n",
       "      <td>Towards Data Science</td>\n",
       "      <td>2019-01-20 16:28:00</td>\n",
       "      <td>26.87</td>\n",
       "      <td>14</td>\n",
       "      <td>...</td>\n",
       "      <td>published</td>\n",
       "      <td>11752</td>\n",
       "      <td>3371</td>\n",
       "      <td>1.097597</td>\n",
       "      <td>0</td>\n",
       "      <td>1</td>\n",
       "      <td>1</td>\n",
       "      <td>1</td>\n",
       "      <td>0</td>\n",
       "      <td>0</td>\n",
       "    </tr>\n",
       "    <tr>\n",
       "      <th>131</th>\n",
       "      <td>17</td>\n",
       "      <td>82</td>\n",
       "      <td>122.299686</td>\n",
       "      <td>18</td>\n",
       "      <td>https://towardsdatascience.com/a-great-public-...</td>\n",
       "      <td>3</td>\n",
       "      <td>Towards Data Science</td>\n",
       "      <td>2019-01-25 08:30:00</td>\n",
       "      <td>18.13</td>\n",
       "      <td>13</td>\n",
       "      <td>...</td>\n",
       "      <td>published</td>\n",
       "      <td>651</td>\n",
       "      <td>3547</td>\n",
       "      <td>0.023118</td>\n",
       "      <td>1</td>\n",
       "      <td>1</td>\n",
       "      <td>0</td>\n",
       "      <td>0</td>\n",
       "      <td>0</td>\n",
       "      <td>0</td>\n",
       "    </tr>\n",
       "    <tr>\n",
       "      <th>132</th>\n",
       "      <td>8</td>\n",
       "      <td>4500</td>\n",
       "      <td>119.971295</td>\n",
       "      <td>354</td>\n",
       "      <td>https://towardsdatascience.com/interactive-con...</td>\n",
       "      <td>16</td>\n",
       "      <td>Towards Data Science</td>\n",
       "      <td>2019-01-27 16:23:00</td>\n",
       "      <td>28.88</td>\n",
       "      <td>6</td>\n",
       "      <td>...</td>\n",
       "      <td>published</td>\n",
       "      <td>7532</td>\n",
       "      <td>1191</td>\n",
       "      <td>3.778338</td>\n",
       "      <td>0</td>\n",
       "      <td>1</td>\n",
       "      <td>1</td>\n",
       "      <td>1</td>\n",
       "      <td>0</td>\n",
       "      <td>0</td>\n",
       "    </tr>\n",
       "  </tbody>\n",
       "</table>\n",
       "<p>133 rows × 26 columns</p>\n",
       "</div>"
      ],
      "text/plain": [
       "     Unnamed: 0  claps  days_since_publication  fans  \\\n",
       "0           121      2              716.053848     2   \n",
       "1           132     18              708.735909     3   \n",
       "2           119     52              696.116014    20   \n",
       "3           130      0              695.273421     0   \n",
       "4           123      0              691.285764     0   \n",
       "..          ...    ...                     ...   ...   \n",
       "128          19    391              135.089829    50   \n",
       "129          11    451              130.956990    49   \n",
       "130          16   3700              126.968103   442   \n",
       "131          17     82              122.299686    18   \n",
       "132           8   4500              119.971295   354   \n",
       "\n",
       "                                                  link  num_responses  \\\n",
       "0    https://medium.com/p/screw-the-environment-but...              0   \n",
       "1    https://medium.com/p/the-vanquishing-of-war-pl...              0   \n",
       "2    https://medium.com/p/capstone-project-mercedes...              0   \n",
       "3    https://medium.com/p/home-of-the-scared-5af0fe...              0   \n",
       "4    https://medium.com/p/the-triumph-of-peace-f485...              0   \n",
       "..                                                 ...            ...   \n",
       "128  https://towardsdatascience.com/the-reality-of-...              1   \n",
       "129  https://towardsdatascience.com/the-myth-of-us-...              0   \n",
       "130  https://towardsdatascience.com/the-poisson-dis...             16   \n",
       "131  https://towardsdatascience.com/a-great-public-...              3   \n",
       "132  https://towardsdatascience.com/interactive-con...             16   \n",
       "\n",
       "              publication       published_date  read_ratio  read_time  ...  \\\n",
       "0                    None  2017-06-10 14:25:00       42.17          7  ...   \n",
       "1                    None  2017-06-17 22:02:00       29.51         14  ...   \n",
       "2                    None  2017-06-30 12:55:00       19.98         42  ...   \n",
       "3                    None  2017-07-01 09:08:00       35.85          9  ...   \n",
       "4                    None  2017-07-05 08:51:00        8.33         14  ...   \n",
       "..                    ...                  ...         ...        ...  ...   \n",
       "128  Towards Data Science  2019-01-12 13:33:00       24.96         11  ...   \n",
       "129  Towards Data Science  2019-01-16 16:44:00       27.11         10  ...   \n",
       "130  Towards Data Science  2019-01-20 16:28:00       26.87         14  ...   \n",
       "131  Towards Data Science  2019-01-25 08:30:00       18.13         13  ...   \n",
       "132  Towards Data Science  2019-01-27 16:23:00       28.88          6  ...   \n",
       "\n",
       "          type  views word_count claps_per_word editing_days  <tag>Education  \\\n",
       "0    published    166       1859       0.001076            0               0   \n",
       "1    published    183       3891       0.004626            0               0   \n",
       "2    published   1121      12025       0.004324            0               0   \n",
       "3    published     53       2533       0.000000            0               0   \n",
       "4    published     60       3892       0.000000            1               0   \n",
       "..         ...    ...        ...            ...          ...             ...   \n",
       "128  published   1402       2795       0.139893            8               1   \n",
       "129  published   1055       2532       0.178120           15               1   \n",
       "130  published  11752       3371       1.097597            0               1   \n",
       "131  published    651       3547       0.023118            1               1   \n",
       "132  published   7532       1191       3.778338            0               1   \n",
       "\n",
       "    <tag>Data Science  <tag>Towards Data Science  <tag>Machine Learning  \\\n",
       "0                   0                          0                      0   \n",
       "1                   0                          0                      0   \n",
       "2                   0                          0                      1   \n",
       "3                   0                          0                      0   \n",
       "4                   0                          0                      0   \n",
       "..                ...                        ...                    ...   \n",
       "128                 0                          0                      0   \n",
       "129                 0                          0                      0   \n",
       "130                 1                          1                      0   \n",
       "131                 0                          0                      0   \n",
       "132                 1                          1                      0   \n",
       "\n",
       "     <tag>Python  \n",
       "0              0  \n",
       "1              0  \n",
       "2              1  \n",
       "3              0  \n",
       "4              0  \n",
       "..           ...  \n",
       "128            0  \n",
       "129            0  \n",
       "130            0  \n",
       "131            0  \n",
       "132            0  \n",
       "\n",
       "[133 rows x 26 columns]"
      ]
     },
     "execution_count": 6,
     "metadata": {},
     "output_type": "execute_result"
    }
   ],
   "source": [
    "# Let's load some data\n",
    "df = pd.read_csv(\"test-data/data.cvs\")\n",
    "df"
   ]
  },
  {
   "cell_type": "code",
   "execution_count": 7,
   "metadata": {},
   "outputs": [],
   "source": [
    "# Import the libraries\n",
    "import ipywidgets as widgets\n",
    "from ipywidgets import interact, interact_manual"
   ]
  },
  {
   "cell_type": "code",
   "execution_count": 8,
   "metadata": {
    "scrolled": true
   },
   "outputs": [
    {
     "data": {
      "application/vnd.jupyter.widget-view+json": {
       "model_id": "b8f5a75cae104bcc93f599cc33280fee",
       "version_major": 2,
       "version_minor": 0
      },
      "text/plain": [
       "interactive(children=(Text(value='claps', description='column'), IntSlider(value=5000, description='x', max=15…"
      ]
     },
     "metadata": {},
     "output_type": "display_data"
    }
   ],
   "source": [
    "# How about we write a function that create filters fow us\n",
    "@interact\n",
    "def show_articles_more_than(column='claps', x=5000):\n",
    "    return df.loc[df[column] > x]"
   ]
  },
  {
   "cell_type": "markdown",
   "metadata": {},
   "source": [
    "With the **@interact decorator**, the IPywidgets library automatically gives us a text box and a slider for choosing a column and number! It looks at the inputs to our function and creates interactive controls based on the types. Now we can segment the data using the controls (widgets) without writing code."
   ]
  },
  {
   "cell_type": "markdown",
   "metadata": {},
   "source": [
    "### Can it get better?\n",
    "\n",
    "You may have noticed some problems with the widgets — x can go negative and we had to type in the correct column name. \n",
    "\n",
    "We can fix these by providing specific arguments to the function parameter"
   ]
  },
  {
   "cell_type": "code",
   "execution_count": 9,
   "metadata": {},
   "outputs": [
    {
     "data": {
      "application/vnd.jupyter.widget-view+json": {
       "model_id": "8fc95a0e7adc480d9bbcc89f4629523d",
       "version_major": 2,
       "version_minor": 0
      },
      "text/plain": [
       "interactive(children=(Dropdown(description='column', options=('claps', 'views', 'fans', 'reads'), value='claps…"
      ]
     },
     "metadata": {},
     "output_type": "display_data"
    }
   ],
   "source": [
    "@interact\n",
    "def show_articles_more_than(column=['claps', 'views', 'fans','reads'], x=(10, 100000, 10)):\n",
    "    return df.loc[df[column] > x]"
   ]
  },
  {
   "cell_type": "markdown",
   "metadata": {},
   "source": [
    "Now we get a dropdown for the column (with the options in the list) and an integer slider limited to a range (the format is (start, stop, step) )."
   ]
  },
  {
   "cell_type": "code",
   "execution_count": 10,
   "metadata": {},
   "outputs": [
    {
     "data": {
      "application/vnd.jupyter.widget-view+json": {
       "model_id": "8bf8b27897d5403684495f9651ad555e",
       "version_major": 2,
       "version_minor": 0
      },
      "text/plain": [
       "interactive(children=(Dropdown(description='column', options=('Unnamed: 0', 'claps', 'days_since_publication',…"
      ]
     },
     "metadata": {},
     "output_type": "display_data"
    }
   ],
   "source": [
    "# Create a list with all columns and pass it to the function\n",
    "a = list(df.columns)\n",
    "\n",
    "\n",
    "@interact\n",
    "def show_articles_more_than(column=a, x=(10, 100000, 10)):\n",
    "    return df.loc[df[column] > x]"
   ]
  },
  {
   "cell_type": "code",
   "execution_count": 11,
   "metadata": {},
   "outputs": [
    {
     "data": {
      "application/vnd.jupyter.widget-view+json": {
       "model_id": "3cab680bc5824e5ebc1715168f9d3ae2",
       "version_major": 2,
       "version_minor": 0
      },
      "text/plain": [
       "interactive(children=(Dropdown(description='column', options=('Unnamed: 0', 'claps', 'days_since_publication',…"
      ]
     },
     "metadata": {},
     "output_type": "display_data"
    }
   ],
   "source": [
    "# Let's make it fancy\n",
    "from IPython.display import Image, display, HTML\n",
    "a = list(df.columns)\n",
    "\n",
    "@interact\n",
    "def show_articles_more_than(column=a, x=(10, 10000, 10)):\n",
    "    display(HTML(f'<h2>Showing articles with more than {x} {column}<h2>'))\n",
    "    display(df.loc[df[column] > x, ['title', 'published_date', 'read_time', 'tags', 'views', 'reads']])"
   ]
  },
  {
   "cell_type": "markdown",
   "metadata": {},
   "source": [
    "#### Wouldn't be nice if we could create a function that automagically calculate the correlation between two columns?\n"
   ]
  },
  {
   "cell_type": "code",
   "execution_count": 12,
   "metadata": {},
   "outputs": [
    {
     "data": {
      "application/vnd.jupyter.widget-view+json": {
       "model_id": "31e0b2f7024248f3a86eabcf671c58d4",
       "version_major": 2,
       "version_minor": 0
      },
      "text/plain": [
       "interactive(children=(Dropdown(description='column1', options=('Unnamed: 0', 'claps', 'days_since_publication'…"
      ]
     },
     "metadata": {},
     "output_type": "display_data"
    }
   ],
   "source": [
    "@interact\n",
    "def correlations(column1=list(df.select_dtypes(include=['number']).columns), \n",
    "                 column2=list(df.select_dtypes(include=['number']).columns)):\n",
    "    \n",
    "    print(f\"Correlation: {df[column1].corr(df[column2])}\")"
   ]
  },
  {
   "cell_type": "code",
   "execution_count": 13,
   "metadata": {},
   "outputs": [
    {
     "data": {
      "application/vnd.jupyter.widget-view+json": {
       "model_id": "6d1f63bba82d40bf9d7044a0ff08c785",
       "version_major": 2,
       "version_minor": 0
      },
      "text/plain": [
       "interactive(children=(Dropdown(description='column', options=('Unnamed: 0', 'claps', 'days_since_publication',…"
      ]
     },
     "metadata": {},
     "output_type": "display_data"
    }
   ],
   "source": [
    "# Any function can be transformed this way\n",
    "\n",
    "@interact\n",
    "def describe(column=list(df.columns)):\n",
    "    print(df[column].describe())"
   ]
  },
  {
   "cell_type": "code",
   "execution_count": 14,
   "metadata": {},
   "outputs": [
    {
     "data": {
      "text/html": [
       "        <script type=\"text/javascript\">\n",
       "        window.PlotlyConfig = {MathJaxConfig: 'local'};\n",
       "        if (window.MathJax) {MathJax.Hub.Config({SVG: {font: \"STIX-Web\"}});}\n",
       "        if (typeof require !== 'undefined') {\n",
       "        require.undef(\"plotly\");\n",
       "        requirejs.config({\n",
       "            paths: {\n",
       "                'plotly': ['https://cdn.plot.ly/plotly-latest.min']\n",
       "            }\n",
       "        });\n",
       "        require(['plotly'], function(Plotly) {\n",
       "            window._Plotly = Plotly;\n",
       "        });\n",
       "        }\n",
       "        </script>\n",
       "        "
      ]
     },
     "metadata": {},
     "output_type": "display_data"
    },
    {
     "data": {
      "text/html": [
       "        <script type=\"text/javascript\">\n",
       "        window.PlotlyConfig = {MathJaxConfig: 'local'};\n",
       "        if (window.MathJax) {MathJax.Hub.Config({SVG: {font: \"STIX-Web\"}});}\n",
       "        if (typeof require !== 'undefined') {\n",
       "        require.undef(\"plotly\");\n",
       "        requirejs.config({\n",
       "            paths: {\n",
       "                'plotly': ['https://cdn.plot.ly/plotly-latest.min']\n",
       "            }\n",
       "        });\n",
       "        require(['plotly'], function(Plotly) {\n",
       "            window._Plotly = Plotly;\n",
       "        });\n",
       "        }\n",
       "        </script>\n",
       "        "
      ]
     },
     "metadata": {},
     "output_type": "display_data"
    }
   ],
   "source": [
    "# Standard Data Science Helpers\n",
    "import numpy as np\n",
    "import pandas as pd\n",
    "import scipy\n",
    "\n",
    "import plotly.plotly as py\n",
    "import plotly.graph_objs as go\n",
    "from plotly.offline import iplot, init_notebook_mode\n",
    "init_notebook_mode(connected=True)\n",
    "\n",
    "import cufflinks as cf\n",
    "cf.go_offline(connected=True)\n",
    "cf.set_config_file(colorscale='plotly', world_readable=True)\n",
    "\n",
    "# Extra options\n",
    "pd.options.display.max_rows = 30\n",
    "pd.options.display.max_columns = 25\n",
    "\n",
    "# Show all code cells outputs\n",
    "from IPython.core.interactiveshell import InteractiveShell\n",
    "InteractiveShell.ast_node_interactivity = 'all'"
   ]
  },
  {
   "cell_type": "markdown",
   "metadata": {},
   "source": [
    "# What about plots?"
   ]
  },
  {
   "cell_type": "code",
   "execution_count": 15,
   "metadata": {},
   "outputs": [
    {
     "data": {
      "application/vnd.jupyter.widget-view+json": {
       "model_id": "778a58b9b2d9447db4069b4e0c9e62db",
       "version_major": 2,
       "version_minor": 0
      },
      "text/plain": [
       "interactive(children=(Dropdown(description='x', options=('Unnamed: 0', 'claps', 'days_since_publication', 'fan…"
      ]
     },
     "metadata": {},
     "output_type": "display_data"
    }
   ],
   "source": [
    "@interact\n",
    "def scatter_plot(x=list(df.select_dtypes(include=['number']).columns), \n",
    "                 y=list(df.select_dtypes(include=['number']).columns)[1:],\n",
    "                 theme=list(cf.themes.THEMES.keys()), \n",
    "                 colorscale=list(cf.colors._scales_names.keys())):\n",
    "    \n",
    "    df.iplot(kind='scatter', x=x, y=y, mode='markers', \n",
    "             xTitle=x.title(), yTitle=y.title(), \n",
    "             text='title',\n",
    "             title=f'{y.title()} vs {x.title()}',\n",
    "            theme=theme, colorscale=colorscale)\n",
    "\n"
   ]
  },
  {
   "cell_type": "code",
   "execution_count": 16,
   "metadata": {},
   "outputs": [
    {
     "data": {
      "application/vnd.jupyter.widget-view+json": {
       "model_id": "eb6c6e66b1e5405998b1046388841531",
       "version_major": 2,
       "version_minor": 0
      },
      "text/plain": [
       "interactive(children=(Dropdown(description='x', options=('Unnamed: 0', 'claps', 'days_since_publication', 'fan…"
      ]
     },
     "metadata": {},
     "output_type": "display_data"
    }
   ],
   "source": [
    "# Categorize the points\n",
    "\n",
    "df['binned_read_time'] = pd.cut(df['read_time'], bins=range(0, 56, 5))\n",
    "df['binned_read_time'] = df['binned_read_time'].astype(str)\n",
    "\n",
    "df['binned_word_count'] = pd.cut(df['word_count'], bins=range(0, 100001, 1000))\n",
    "df['binned_word_count'] = df['binned_word_count'].astype(str)\n",
    "\n",
    "@interact\n",
    "def scatter_plot(x=list(df.select_dtypes(include=['number']).columns), \n",
    "                 y=list(df.select_dtypes(include=['number']).columns)[1:],\n",
    "                 categories=['binned_read_time', 'binned_word_count', 'publication', 'type'],\n",
    "                 theme=list(cf.themes.THEMES.keys()), \n",
    "                 colorscale=list(cf.colors._scales_names.keys())):\n",
    "    \n",
    "    df.iplot(kind='scatter', x=x, y=y, mode='markers', \n",
    "             categories=categories, \n",
    "             xTitle=x.title(), yTitle=y.title(), \n",
    "             text='title',\n",
    "             title=f'{y.title()} vs {x.title()}',\n",
    "             theme=theme, colorscale=colorscale)"
   ]
  },
  {
   "cell_type": "code",
   "execution_count": 17,
   "metadata": {},
   "outputs": [],
   "source": [
    "from ipywidgets import interact_manual"
   ]
  },
  {
   "cell_type": "code",
   "execution_count": 18,
   "metadata": {},
   "outputs": [
    {
     "data": {
      "application/vnd.jupyter.widget-view+json": {
       "model_id": "91ce62abd64049d9bbc080f3f53b3a4b",
       "version_major": 2,
       "version_minor": 0
      },
      "text/plain": [
       "interactive(children=(Dropdown(description='x', options=('Unnamed: 0', 'claps', 'days_since_publication', 'fan…"
      ]
     },
     "metadata": {},
     "output_type": "display_data"
    }
   ],
   "source": [
    "@interact_manual\n",
    "def scatter_plot(x=list(df.select_dtypes(include=['number']).columns), \n",
    "                 y=list(df.select_dtypes(include=['number']).columns)[1:],\n",
    "                 categories=['binned_read_time', 'binned_word_count', 'publication', 'type'],\n",
    "                 theme=list(cf.themes.THEMES.keys()), \n",
    "                 colorscale=list(cf.colors._scales_names.keys())):\n",
    "    \n",
    "    df.iplot(kind='scatter', x=x, y=y, mode='markers', \n",
    "             categories=categories, \n",
    "             xTitle=x.title(), yTitle=y.title(), \n",
    "             text='title',\n",
    "             title=f'{y.title()} vs {x.title()}',\n",
    "             theme=theme, colorscale=colorscale)"
   ]
  },
  {
   "cell_type": "code",
   "execution_count": 19,
   "metadata": {},
   "outputs": [],
   "source": [
    "cscales = ['Greys', 'YlGnBu', 'Greens', 'YlOrRd', 'Bluered', 'RdBu',\n",
    "            'Reds', 'Blues', 'Picnic', 'Rainbow', 'Portland', 'Jet',\n",
    "            'Hot', 'Blackbody', 'Earth', 'Electric', 'Viridis', 'Cividis']\n"
   ]
  },
  {
   "cell_type": "code",
   "execution_count": 20,
   "metadata": {},
   "outputs": [
    {
     "data": {
      "application/vnd.jupyter.widget-view+json": {
       "model_id": "b99de9fb3ba746b8ade96979ccf7eec6",
       "version_major": 2,
       "version_minor": 0
      },
      "text/plain": [
       "interactive(children=(Dropdown(description='colorscale', options=('Greys', 'YlGnBu', 'Greens', 'YlOrRd', 'Blue…"
      ]
     },
     "metadata": {},
     "output_type": "display_data"
    }
   ],
   "source": [
    "import plotly.figure_factory as ff\n",
    "\n",
    "corrs = df.corr()\n",
    "\n",
    "@interact_manual\n",
    "def plot_corrs(colorscale=cscales):\n",
    "    figure = ff.create_annotated_heatmap(z = corrs.round(2).values, \n",
    "                                     x =list(corrs.columns), \n",
    "                                     y=list(corrs.index), \n",
    "                                     colorscale=colorscale,\n",
    "                                     annotation_text=corrs.round(2).values)\n",
    "    iplot(figure)\n",
    "\n"
   ]
  },
  {
   "cell_type": "markdown",
   "metadata": {},
   "source": []
  },
  {
   "cell_type": "code",
   "execution_count": 26,
   "metadata": {
    "collapsed": true
   },
   "outputs": [],
   "source": []
  },
  {
   "cell_type": "code",
   "execution_count": 27,
   "metadata": {
    "collapsed": true
   },
   "outputs": [],
   "source": []
  },
  {
   "cell_type": "code",
   "execution_count": 28,
   "metadata": {
    "collapsed": true
   },
   "outputs": [],
   "source": []
  },
  {
   "cell_type": "code",
   "execution_count": null,
   "metadata": {
    "collapsed": true
   },
   "outputs": [],
   "source": []
  },
  {
   "cell_type": "code",
   "execution_count": null,
   "metadata": {
    "collapsed": true
   },
   "outputs": [],
   "source": []
  },
  {
   "cell_type": "code",
   "execution_count": null,
   "metadata": {
    "collapsed": true
   },
   "outputs": [],
   "source": []
  },
  {
   "cell_type": "code",
   "execution_count": null,
   "metadata": {
    "collapsed": true
   },
   "outputs": [],
   "source": []
  },
  {
   "cell_type": "code",
   "execution_count": null,
   "metadata": {
    "collapsed": true
   },
   "outputs": [],
   "source": []
  }
 ],
 "metadata": {
  "kernelspec": {
   "display_name": "Python 3",
   "language": "python",
   "name": "python3"
  },
  "language_info": {
   "codemirror_mode": {
    "name": "ipython",
    "version": 3
   },
   "file_extension": ".py",
   "mimetype": "text/x-python",
   "name": "python",
   "nbconvert_exporter": "python",
   "pygments_lexer": "ipython3",
   "version": "3.6.2"
  }
 },
 "nbformat": 4,
 "nbformat_minor": 2
}
